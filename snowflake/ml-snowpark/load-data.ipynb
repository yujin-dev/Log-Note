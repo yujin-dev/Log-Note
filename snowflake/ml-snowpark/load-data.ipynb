{
 "cells": [
  {
   "cell_type": "markdown",
   "metadata": {},
   "source": [
    "# Load Data Using Snowpark Python Client API\n",
    "\n",
    "load, clean, transform the raw parquet dataset"
   ]
  },
  {
   "cell_type": "code",
   "execution_count": 1,
   "metadata": {},
   "outputs": [
    {
     "name": "stderr",
     "output_type": "stream",
     "text": [
      "/Users/yjlee/.conda/envs/snowpark-python/lib/python3.8/site-packages/scipy/__init__.py:146: UserWarning: A NumPy version >=1.16.5 and <1.23.0 is required for this version of SciPy (detected version 1.23.1\n",
      "  warnings.warn(f\"A NumPy version >={np_minversion} and <{np_maxversion}\"\n"
     ]
    }
   ],
   "source": [
    "from snowflake.snowpark.session import Session\n",
    "from snowflake.snowpark import functions as F\n",
    "from snowflake.snowpark.types import *\n",
    "\n",
    "import pandas as pd\n",
    "\n",
    "from sklearn import linear_model\n",
    "\n",
    "import matplotlib.pyplot as plt\n",
    "\n",
    "%matplotlib inline\n",
    "import datetime as dt\n",
    "import numpy as np\n",
    "import seaborn as sns\n",
    "from config import snowflake_conn_prop\n",
    "from snowflake.snowpark.functions import udf, col, lit, translate, is_null, iff"
   ]
  },
  {
   "cell_type": "markdown",
   "metadata": {},
   "source": []
  },
  {
   "cell_type": "code",
   "execution_count": 3,
   "metadata": {},
   "outputs": [
    {
     "name": "stdout",
     "output_type": "stream",
     "text": [
      "[Row(CURRENT_WAREHOUSE()='TEST_WH', CURRENT_DATABASE()='SNOWPARK_QUICKSTART', CURRENT_SCHEMA()='TELCO')]\n"
     ]
    }
   ],
   "source": [
    "session = Session.builder.configs(snowflake_conn_prop).create()\n",
    "session.sql(\"use role accountadmin\").collect()\n",
    "session.sql(\"create database if not exists {}\".format(snowflake_conn_prop[\"database\"])).collect()\n",
    "session.sql(\"use database {}\".format(snowflake_conn_prop[\"database\"])).collect()\n",
    "session.sql(\"create schema if not exists {}\".format(snowflake_conn_prop[\"schema\"])).collect()\n",
    "session.sql(\"use schema {}\".format(snowflake_conn_prop[\"schema\"])).collect()\n",
    "session.sql(\"create or replace warehouse {} with \\\n",
    "             WAREHOUSE_SIZE=XSMALL AUTO_SUSPEND=120 AUTO_RESUME = TRUE\".format(snowflake_conn_prop[\"warehouse\"])).collect()\n",
    "session.sql(\"use warehouse {}\".format(snowflake_conn_prop[\"warehouse\"])).collect()\n",
    "print(session.sql(\"select current_warehouse(), current_database(), current_schema()\").collect())"
   ]
  },
  {
   "cell_type": "markdown",
   "metadata": {},
   "source": [
    "## Infer files schema"
   ]
  },
  {
   "cell_type": "markdown",
   "metadata": {},
   "source": []
  },
  {
   "cell_type": "code",
   "execution_count": 7,
   "metadata": {},
   "outputs": [],
   "source": [
    "filename = \"raw_telco_data.parquet\"\n",
    "stagename = \"raw_telco_data\"\n",
    "rawtable = \"RAW_PARQUET_DATA\""
   ]
  },
  {
   "cell_type": "code",
   "execution_count": 9,
   "metadata": {},
   "outputs": [
    {
     "data": {
      "text/plain": [
       "[PutResult(source='raw_telco_data.parquet', target='raw_telco_data.parquet', source_size=3037540, target_size=3037552, source_compression='PARQUET', target_compression='PARQUET', status='UPLOADED', message='')]"
      ]
     },
     "execution_count": 9,
     "metadata": {},
     "output_type": "execute_result"
    }
   ],
   "source": [
    "session.sql(f\"create or replace stage {stagename} DIRECTORY = (ENABLE = TRUE);\").collect()\n",
    "session.file.put(filename,stagename)"
   ]
  },
  {
   "cell_type": "code",
   "execution_count": 10,
   "metadata": {},
   "outputs": [
    {
     "data": {
      "text/plain": [
       "[Row(status='Table RAW_PARQUET_DATA successfully created.')]"
      ]
     },
     "execution_count": 10,
     "metadata": {},
     "output_type": "execute_result"
    }
   ],
   "source": [
    "session.sql(\"create or replace file format my_parquet_format type = parquet;\").collect()\n",
    "session.sql(f\"create or replace table {rawtable} using template (\\\n",
    "                select array_agg(object_construct(*))\\\n",
    "                from table( infer_schema( location => '@{stagename}/{filename}',\\\n",
    "                                          file_format => 'MY_PARQUET_FORMAT' )\\\n",
    "                          )\\\n",
    "              ); \").collect()"
   ]
  },
  {
   "cell_type": "markdown",
   "metadata": {},
   "source": [
    "## Load data into snowflake"
   ]
  },
  {
   "cell_type": "code",
   "execution_count": 11,
   "metadata": {},
   "outputs": [],
   "source": [
    "dfClear = session.table(rawtable).delete()"
   ]
  },
  {
   "cell_type": "code",
   "execution_count": 12,
   "metadata": {},
   "outputs": [
    {
     "data": {
      "text/plain": [
       "[Row(file='raw_telco_data/raw_telco_data.parquet', status='LOADED', rows_parsed=100000, rows_loaded=100000, error_limit=1, errors_seen=0, first_error=None, first_error_line=None, first_error_character=None, first_error_column_name=None)]"
      ]
     },
     "execution_count": 12,
     "metadata": {},
     "output_type": "execute_result"
    }
   ],
   "source": [
    "dfRaw = session.read.option(\"compression\", \"snappy\").parquet(f\"@{stagename}/{filename}\")\n",
    "dfRaw.copy_into_table(rawtable, FORCE=True)"
   ]
  },
  {
   "cell_type": "code",
   "execution_count": 13,
   "metadata": {},
   "outputs": [
    {
     "data": {
      "text/html": [
       "<div>\n",
       "<style scoped>\n",
       "    .dataframe tbody tr th:only-of-type {\n",
       "        vertical-align: middle;\n",
       "    }\n",
       "\n",
       "    .dataframe tbody tr th {\n",
       "        vertical-align: top;\n",
       "    }\n",
       "\n",
       "    .dataframe thead th {\n",
       "        text-align: right;\n",
       "    }\n",
       "</style>\n",
       "<table border=\"1\" class=\"dataframe\">\n",
       "  <thead>\n",
       "    <tr style=\"text-align: right;\">\n",
       "      <th></th>\n",
       "      <th>COUNTRY</th>\n",
       "      <th>CITY</th>\n",
       "      <th>PHONE SERVICE</th>\n",
       "      <th>MULTIPLE LINES</th>\n",
       "      <th>LATITUDE</th>\n",
       "      <th>ONLINE SECURITY</th>\n",
       "      <th>SENIOR CITIZEN</th>\n",
       "      <th>MONTHLY CHARGES</th>\n",
       "      <th>STREAMING MOVIES</th>\n",
       "      <th>PAYMENT METHOD</th>\n",
       "      <th>...</th>\n",
       "      <th>CHURN SCORE</th>\n",
       "      <th>GENDER</th>\n",
       "      <th>LONGITUDE</th>\n",
       "      <th>ONLINE BACKUP</th>\n",
       "      <th>TOTAL CHARGES</th>\n",
       "      <th>CLTV</th>\n",
       "      <th>CHURN REASON</th>\n",
       "      <th>DEVICE PROTECTION</th>\n",
       "      <th>STATE</th>\n",
       "      <th>ZIP CODE</th>\n",
       "    </tr>\n",
       "  </thead>\n",
       "  <tbody>\n",
       "    <tr>\n",
       "      <th>0</th>\n",
       "      <td>United States</td>\n",
       "      <td>Somerset</td>\n",
       "      <td>Yes</td>\n",
       "      <td>Yes</td>\n",
       "      <td>38.606703</td>\n",
       "      <td>Yes</td>\n",
       "      <td>False</td>\n",
       "      <td>94.55</td>\n",
       "      <td>No</td>\n",
       "      <td>Credit card (automatic)</td>\n",
       "      <td>...</td>\n",
       "      <td>0</td>\n",
       "      <td>Male</td>\n",
       "      <td>-120.586659</td>\n",
       "      <td>Yes</td>\n",
       "      <td>6078.75</td>\n",
       "      <td>4603</td>\n",
       "      <td>do not know</td>\n",
       "      <td>Yes</td>\n",
       "      <td>California</td>\n",
       "      <td>95684</td>\n",
       "    </tr>\n",
       "    <tr>\n",
       "      <th>1</th>\n",
       "      <td>United States</td>\n",
       "      <td>Palo Alto</td>\n",
       "      <td>Yes</td>\n",
       "      <td>Yes</td>\n",
       "      <td>37.416159</td>\n",
       "      <td>No</td>\n",
       "      <td>True</td>\n",
       "      <td>83.25</td>\n",
       "      <td>No</td>\n",
       "      <td>Electronic check</td>\n",
       "      <td>...</td>\n",
       "      <td>0</td>\n",
       "      <td>Female</td>\n",
       "      <td>-122.131337</td>\n",
       "      <td>No</td>\n",
       "      <td>308.05</td>\n",
       "      <td>5251</td>\n",
       "      <td>do not know</td>\n",
       "      <td>No</td>\n",
       "      <td>California</td>\n",
       "      <td>94306</td>\n",
       "    </tr>\n",
       "    <tr>\n",
       "      <th>2</th>\n",
       "      <td>United States</td>\n",
       "      <td>Downey</td>\n",
       "      <td>Yes</td>\n",
       "      <td>No</td>\n",
       "      <td>33.940884</td>\n",
       "      <td>Yes</td>\n",
       "      <td>False</td>\n",
       "      <td>109.90</td>\n",
       "      <td>Yes</td>\n",
       "      <td>Electronic check</td>\n",
       "      <td>...</td>\n",
       "      <td>0</td>\n",
       "      <td>Female</td>\n",
       "      <td>-118.128628</td>\n",
       "      <td>Yes</td>\n",
       "      <td>7624.20</td>\n",
       "      <td>5234</td>\n",
       "      <td>do not know</td>\n",
       "      <td>Yes</td>\n",
       "      <td>California</td>\n",
       "      <td>90241</td>\n",
       "    </tr>\n",
       "    <tr>\n",
       "      <th>3</th>\n",
       "      <td>United States</td>\n",
       "      <td>Sacramento</td>\n",
       "      <td>Yes</td>\n",
       "      <td>Yes</td>\n",
       "      <td>38.590035</td>\n",
       "      <td>No</td>\n",
       "      <td>False</td>\n",
       "      <td>91.05</td>\n",
       "      <td>Yes</td>\n",
       "      <td>Bank transfer (automatic)</td>\n",
       "      <td>...</td>\n",
       "      <td>1</td>\n",
       "      <td>Female</td>\n",
       "      <td>-121.412455</td>\n",
       "      <td>No</td>\n",
       "      <td>2954.50</td>\n",
       "      <td>3590</td>\n",
       "      <td>Competitor offered more data</td>\n",
       "      <td>Yes</td>\n",
       "      <td>California</td>\n",
       "      <td>95825</td>\n",
       "    </tr>\n",
       "    <tr>\n",
       "      <th>4</th>\n",
       "      <td>United States</td>\n",
       "      <td>Burbank</td>\n",
       "      <td>Yes</td>\n",
       "      <td>No</td>\n",
       "      <td>34.169706</td>\n",
       "      <td>Yes</td>\n",
       "      <td>False</td>\n",
       "      <td>100.20</td>\n",
       "      <td>No</td>\n",
       "      <td>Credit card (automatic)</td>\n",
       "      <td>...</td>\n",
       "      <td>0</td>\n",
       "      <td>Male</td>\n",
       "      <td>-118.323548</td>\n",
       "      <td>Yes</td>\n",
       "      <td>7209.00</td>\n",
       "      <td>5502</td>\n",
       "      <td>do not know</td>\n",
       "      <td>Yes</td>\n",
       "      <td>California</td>\n",
       "      <td>91506</td>\n",
       "    </tr>\n",
       "  </tbody>\n",
       "</table>\n",
       "<p>5 rows × 33 columns</p>\n",
       "</div>"
      ],
      "text/plain": [
       "         COUNTRY        CITY PHONE SERVICE MULTIPLE LINES   LATITUDE  \\\n",
       "0  United States    Somerset           Yes            Yes  38.606703   \n",
       "1  United States   Palo Alto           Yes            Yes  37.416159   \n",
       "2  United States      Downey           Yes             No  33.940884   \n",
       "3  United States  Sacramento           Yes            Yes  38.590035   \n",
       "4  United States     Burbank           Yes             No  34.169706   \n",
       "\n",
       "  ONLINE SECURITY  SENIOR CITIZEN  MONTHLY CHARGES STREAMING MOVIES  \\\n",
       "0             Yes           False            94.55               No   \n",
       "1              No            True            83.25               No   \n",
       "2             Yes           False           109.90              Yes   \n",
       "3              No           False            91.05              Yes   \n",
       "4             Yes           False           100.20               No   \n",
       "\n",
       "              PAYMENT METHOD  ... CHURN SCORE  GENDER    LONGITUDE  \\\n",
       "0    Credit card (automatic)  ...           0    Male  -120.586659   \n",
       "1           Electronic check  ...           0  Female  -122.131337   \n",
       "2           Electronic check  ...           0  Female  -118.128628   \n",
       "3  Bank transfer (automatic)  ...           1  Female  -121.412455   \n",
       "4    Credit card (automatic)  ...           0    Male  -118.323548   \n",
       "\n",
       "   ONLINE BACKUP  TOTAL CHARGES  CLTV                  CHURN REASON  \\\n",
       "0            Yes        6078.75  4603                   do not know   \n",
       "1             No         308.05  5251                   do not know   \n",
       "2            Yes        7624.20  5234                   do not know   \n",
       "3             No        2954.50  3590  Competitor offered more data   \n",
       "4            Yes        7209.00  5502                   do not know   \n",
       "\n",
       "   DEVICE PROTECTION       STATE  ZIP CODE  \n",
       "0                Yes  California     95684  \n",
       "1                 No  California     94306  \n",
       "2                Yes  California     90241  \n",
       "3                Yes  California     95825  \n",
       "4                Yes  California     91506  \n",
       "\n",
       "[5 rows x 33 columns]"
      ]
     },
     "execution_count": 13,
     "metadata": {},
     "output_type": "execute_result"
    }
   ],
   "source": [
    "dfR = session.table(rawtable).sample(n=5)\n",
    "dfR.toPandas()"
   ]
  },
  {
   "cell_type": "markdown",
   "metadata": {},
   "source": [
    "## Transformation"
   ]
  },
  {
   "cell_type": "code",
   "execution_count": 14,
   "metadata": {},
   "outputs": [],
   "source": [
    "dfR = session.table(rawtable)"
   ]
  },
  {
   "cell_type": "code",
   "execution_count": 16,
   "metadata": {},
   "outputs": [
    {
     "name": "stdout",
     "output_type": "stream",
     "text": [
      "----------------------------------------------------------------------------------\n",
      "|\"CUSTOMERID\"  |\"COUNT\"  |\"GENDER\"  |\"SENIORCITIZEN\"  |\"PARTNER\"  |\"DEPENDENTS\"  |\n",
      "----------------------------------------------------------------------------------\n",
      "|7090-ZyCMx    |1        |Female    |False            |False      |True          |\n",
      "|1364-wJXMS    |1        |Female    |False            |False      |True          |\n",
      "|6564-sLgIC    |1        |Male      |True             |False      |True          |\n",
      "|7853-2xheR    |1        |Male      |False            |False      |True          |\n",
      "|8457-E9FuW    |1        |Female    |False            |False      |True          |\n",
      "|5718-ykxBT    |1        |Male      |False            |False      |True          |\n",
      "|7092-gCJX5    |1        |Male      |False            |False      |False         |\n",
      "|8249-GOs7s    |1        |Male      |True             |False      |False         |\n",
      "|9445-kPPEc    |1        |Male      |False            |False      |False         |\n",
      "|1581-8yNji    |1        |Male      |True             |True       |False         |\n",
      "----------------------------------------------------------------------------------\n",
      "\n"
     ]
    }
   ],
   "source": [
    "dfDemographics = dfR.select( col(\"CUSTOMERID\"),\n",
    "                             col(\"COUNT\").alias(\"COUNT\"),\n",
    "                             translate(col(\"GENDER\"),lit(\"NULL\"),lit(\"Male\")).alias(\"GENDER\"),\n",
    "                             col(\"SENIOR CITIZEN\").alias(\"SENIORCITIZEN\"),\n",
    "                             col(\"PARTNER\"),\n",
    "                             col(\"DEPENDENTS\")          \n",
    "                            )\n",
    "dfDemographics.write.mode('overwrite').saveAsTable('DEMOGRAPHICS')\n",
    "dfDemographics.show()"
   ]
  },
  {
   "cell_type": "code",
   "execution_count": 17,
   "metadata": {},
   "outputs": [
    {
     "name": "stdout",
     "output_type": "stream",
     "text": [
      "-------------------------------------------------------------------------------------------------------------------------------\n",
      "|\"CUSTOMERID\"  |\"COUNTRY\"      |\"STATE\"     |\"CITY\"           |\"ZIPCODE\"  |\"LATLONG\"               |\"LATITUDE\"  |\"LONGITUDE\"  |\n",
      "-------------------------------------------------------------------------------------------------------------------------------\n",
      "|7090-ZyCMx    |United States  |California  |Los Angeles      |90005      |34.059281, -118.30742   |34.059281   |-118.307420  |\n",
      "|1364-wJXMS    |United States  |California  |Los Angeles      |90006      |34.048013, -118.293953  |34.048013   |-118.293953  |\n",
      "|6564-sLgIC    |United States  |California  |Los Angeles      |90065      |34.108833, -118.229715  |34.108833   |-118.229715  |\n",
      "|7853-2xheR    |United States  |California  |La Habra         |90631      |33.940619, -117.9513    |33.940619   |-117.951300  |\n",
      "|8457-E9FuW    |United States  |California  |Glendale         |91206      |34.162515, -118.203869  |34.162515   |-118.203869  |\n",
      "|5718-ykxBT    |United States  |California  |Burbank          |91504      |34.213049, -118.317651  |34.213049   |-118.317651  |\n",
      "|7092-gCJX5    |United States  |California  |Ontario          |91762      |34.057256, -117.667677  |34.057256   |-117.667677  |\n",
      "|8249-GOs7s    |United States  |California  |Alpine           |91901      |32.827184, -116.703729  |32.827184   |-116.703729  |\n",
      "|9445-kPPEc    |United States  |California  |Borrego Springs  |92004      |33.200369, -116.192313  |33.200369   |-116.192313  |\n",
      "|1581-8yNji    |United States  |California  |Del Mar          |92014      |32.948262, -117.256086  |32.948262   |-117.256086  |\n",
      "-------------------------------------------------------------------------------------------------------------------------------\n",
      "\n"
     ]
    }
   ],
   "source": [
    "dfLocation = dfR.select( col(\"CUSTOMERID\"),\n",
    "                         col(\"COUNTRY\").name(\"COUNTRY\"),\n",
    "                         col(\"STATE\").name(\"STATE\"),\n",
    "                         col(\"CITY\").name(\"CITY\"),\n",
    "                         translate(col(\"ZIP CODE\"),lit(\"NULL\"),lit(0)).name(\"ZIPCODE\"),\n",
    "                         col(\"LAT LONG\").name(\"LATLONG\"),\n",
    "                         col(\"LATITUDE\").name(\"LATITUDE\"),\n",
    "                         col(\"LONGITUDE\").name(\"LONGITUDE\")       \n",
    "                        )\n",
    "dfLocation.write.mode('overwrite').saveAsTable('LOCATION')\n",
    "dfLocation.show()"
   ]
  },
  {
   "cell_type": "code",
   "execution_count": 18,
   "metadata": {},
   "outputs": [
    {
     "name": "stdout",
     "output_type": "stream",
     "text": [
      "----------------------------------------------------------------------------------------------------------------------------------------------------------------------------------------------------------------------------------------------------------------------------------------------------------------------------------------\n",
      "|\"CUSTOMERID\"  |\"TENUREMONTHS\"  |\"PHONESERVICE\"  |\"MULTIPLELINES\"  |\"INTERNETSERVICE\"  |\"ONLINESECURITY\"     |\"ONLINEBACKUP\"       |\"DEVICEPROTECTION\"   |\"TECHSUPPORT\"        |\"STREAMINGTV\"        |\"STREAMINGMOVIES\"    |\"CONTRACT\"      |\"PAPERLESSBILLING\"  |\"PAYMENTMETHOD\"   |\"MONTHLYCHARGES\"  |\"TOTALCHARGES\"  |\"CHURNVALUE\"  |\n",
      "----------------------------------------------------------------------------------------------------------------------------------------------------------------------------------------------------------------------------------------------------------------------------------------------------------------------------------------\n",
      "|7090-ZyCMx    |2               |Yes             |No               |Fiber optic        |No                   |No                   |No                   |No                   |No                   |No                   |Month-to-month  |true                |Electronic check  |70.7              |151.65          |1.0           |\n",
      "|1364-wJXMS    |8               |Yes             |Yes              |Fiber optic        |No                   |No                   |Yes                  |No                   |Yes                  |Yes                  |Month-to-month  |true                |Electronic check  |99.65             |820.5           |1.0           |\n",
      "|6564-sLgIC    |18              |Yes             |Yes              |Fiber optic        |No                   |No                   |No                   |No                   |Yes                  |Yes                  |Month-to-month  |true                |Electronic check  |95.45             |1752.55         |1.0           |\n",
      "|7853-2xheR    |3               |Yes             |Yes              |Fiber optic        |No                   |No                   |No                   |No                   |No                   |No                   |Month-to-month  |true                |Electronic check  |74.4              |229.55          |1.0           |\n",
      "|8457-E9FuW    |13              |Yes             |No               |Fiber optic        |No                   |Yes                  |Yes                  |No                   |No                   |No                   |Month-to-month  |true                |Electronic check  |79.25             |1111.65         |1.0           |\n",
      "|5718-ykxBT    |1               |Yes             |No               |Fiber optic        |Yes                  |No                   |No                   |No                   |No                   |Yes                  |Month-to-month  |true                |Mailed check      |84.6              |84.6            |1.0           |\n",
      "|7092-gCJX5    |59              |Yes             |No               |No                 |No internet service  |No internet service  |No internet service  |No internet service  |No internet service  |No internet service  |Two year        |false               |Mailed check      |19.35             |1099.6          |1.0           |\n",
      "|8249-GOs7s    |8               |Yes             |No               |Fiber optic        |No                   |Yes                  |No                   |No                   |No                   |No                   |Month-to-month  |true                |Electronic check  |74.5              |606.55          |1.0           |\n",
      "|9445-kPPEc    |5               |Yes             |No               |Fiber optic        |No                   |No                   |No                   |No                   |Yes                  |No                   |Month-to-month  |true                |Electronic check  |80.6              |415.55          |1.0           |\n",
      "|1581-8yNji    |24              |Yes             |No               |Fiber optic        |No                   |No                   |Yes                  |No                   |Yes                  |Yes                  |Month-to-month  |true                |Electronic check  |93.15             |2231.05         |1.0           |\n",
      "----------------------------------------------------------------------------------------------------------------------------------------------------------------------------------------------------------------------------------------------------------------------------------------------------------------------------------------\n",
      "\n"
     ]
    }
   ],
   "source": [
    "dfServics = dfR.select(col(\"CUSTOMERID\"),\n",
    "                       col(\"TENURE MONTHS\").name(\"TENUREMONTHS\"),\n",
    "                       iff(is_null(col(\"PHONE SERVICE\")),lit('N'),col(\"PHONE SERVICE\")).name(\"PHONESERVICE\"),\n",
    "                       iff(is_null(col(\"MULTIPLE LINES\")),lit(\"No\"),col(\"MULTIPLE LINES\")).name(\"MULTIPLELINES\"),\n",
    "                       iff(is_null(col(\"INTERNET SERVICE\")),lit(\"No\"),col(\"INTERNET SERVICE\")).name(\"INTERNETSERVICE\"),\n",
    "                       iff(is_null(col(\"ONLINE SECURITY\")),lit(\"No\"),col(\"ONLINE SECURITY\")).name(\"ONLINESECURITY\"),\n",
    "                       iff(is_null(col(\"ONLINE BACKUP\")),lit(\"No\"),col(\"ONLINE BACKUP\")).name(\"ONLINEBACKUP\"),\n",
    "                       iff(is_null(col(\"DEVICE PROTECTION\")),lit(\"No\"),col(\"DEVICE PROTECTION\")).name(\"DEVICEPROTECTION\"),\n",
    "                       iff(is_null(col(\"TECH SUPPORT\")),lit('N'),col(\"TECH SUPPORT\")).name(\"TECHSUPPORT\"),\n",
    "                       iff(is_null(col(\"STREAMING TV\")),lit(\"No\"),col(\"STREAMING TV\")).name(\"STREAMINGTV\"),\n",
    "                       iff(is_null(col(\"STREAMING MOVIES\")),lit(\"No\"),col(\"STREAMING MOVIES\")).name(\"STREAMINGMOVIES\"),\n",
    "                       iff(is_null(col(\"CONTRACT\")),lit(\"Month-to-month\"),col(\"CONTRACT\")).name(\"CONTRACT\"),\n",
    "                       iff(is_null(col(\"PAPERLESS BILLING\")),lit('Y'),col(\"PAPERLESS BILLING\")).name(\"PAPERLESSBILLING\"),\n",
    "                       iff(is_null(col(\"PAYMENT METHOD\")),lit(\"Mailed check\"),col(\"PAYMENT METHOD\")).name(\"PAYMENTMETHOD\"),\n",
    "                       col(\"MONTHLY CHARGES\").name(\"MONTHLYCHARGES\"),\n",
    "                       col(\"TOTAL CHARGES\").name(\"TOTALCHARGES\"),\n",
    "                       col(\"CHURN VALUE\").name(\"CHURNVALUE\")\n",
    "                      )\n",
    "dfServics.write.mode('overwrite').saveAsTable('SERVICES')\n",
    "dfServics.show()"
   ]
  },
  {
   "cell_type": "code",
   "execution_count": 19,
   "metadata": {},
   "outputs": [
    {
     "name": "stdout",
     "output_type": "stream",
     "text": [
      "-----------------------------------------------------------------------------------------------------------------\n",
      "|\"CUSTOMERID\"  |\"CHURNLABEL\"  |\"CHURNVALUE\"  |\"CHURNSCORE\"  |\"CLTV\"  |\"CHURNREASON\"                             |\n",
      "-----------------------------------------------------------------------------------------------------------------\n",
      "|7090-ZyCMx    |true          |1.0           |1             |2701    |Moved                                     |\n",
      "|1364-wJXMS    |true          |1.0           |1             |5372    |Moved                                     |\n",
      "|6564-sLgIC    |true          |1.0           |1             |3179    |Competitor made better offer              |\n",
      "|7853-2xheR    |true          |1.0           |1             |4415    |Product dissatisfaction                   |\n",
      "|8457-E9FuW    |true          |1.0           |1             |5142    |Price too high                            |\n",
      "|5718-ykxBT    |true          |1.0           |1             |2484    |Poor expertise of phone support           |\n",
      "|7092-gCJX5    |true          |1.0           |1             |5084    |Price too high                            |\n",
      "|8249-GOs7s    |true          |1.0           |1             |4345    |Poor expertise of online support          |\n",
      "|9445-kPPEc    |true          |1.0           |1             |5715    |Network reliability                       |\n",
      "|1581-8yNji    |true          |1.0           |1             |2212    |Lack of affordable download/upload speed  |\n",
      "-----------------------------------------------------------------------------------------------------------------\n",
      "\n"
     ]
    }
   ],
   "source": [
    "dfStatus = dfR.select(col(\"CUSTOMERID\"),\n",
    "                    iff(is_null(col(\"CHURN LABEL\")),lit('N'),col(\"CHURN LABEL\")).name(\"CHURNLABEL\"),\n",
    "                    col(\"CHURN VALUE\").name(\"CHURNVALUE\"),\n",
    "                    col(\"CHURN SCORE\").name(\"CHURNSCORE\"),\n",
    "                    col(\"CLTV\").name(\"CLTV\"),\n",
    "                    iff(is_null(col(\"CHURN REASON\")),lit(\"do not know\"),col(\"CHURN REASON\")).name(\"CHURNREASON\")          \n",
    "                    )\n",
    "\n",
    "dfStatus.write.mode('overwrite').saveAsTable('STATUS')\n",
    "dfStatus.show()"
   ]
  },
  {
   "cell_type": "code",
   "execution_count": 20,
   "metadata": {},
   "outputs": [
    {
     "name": "stdout",
     "output_type": "stream",
     "text": [
      "----------------------------------------------------------\n",
      "|\"CITY\"           |\"CONTRACT\"      |\"SUM(TOTALCHARGES)\"  |\n",
      "----------------------------------------------------------\n",
      "|Los Angeles      |Month-to-month  |3931004.7            |\n",
      "|La Habra         |Month-to-month  |6828.35              |\n",
      "|Glendale         |Month-to-month  |460483.05            |\n",
      "|Burbank          |Month-to-month  |378354.4             |\n",
      "|Ontario          |Two year        |57487.6              |\n",
      "|Alpine           |Month-to-month  |69186.04999999999    |\n",
      "|Borrego Springs  |Month-to-month  |94737.0              |\n",
      "|Oceanside        |Month-to-month  |49559.5              |\n",
      "|Niland           |Month-to-month  |24946.0              |\n",
      "|San Bernardino   |Month-to-month  |253583.3             |\n",
      "----------------------------------------------------------\n",
      "\n"
     ]
    }
   ],
   "source": [
    "dfLoc = session.table(\"LOCATION\")\n",
    "dfServ = session.table(\"SERVICES\")\n",
    "dfJoin = dfLoc.join(dfServ, dfLoc.col(\"CUSTOMERID\") == dfServ.col(\"CUSTOMERID\"))\n",
    "dfResult = dfJoin.select(col(\"CITY\"),col(\"CONTRACT\"), col(\"TOTALCHARGES\")\n",
    "                            ).groupBy(col(\"CITY\"), col(\"CONTRACT\")\n",
    "                            ).sum(col(\"TOTALCHARGES\"))\n",
    "dfResult.show()                                                                        "
   ]
  },
  {
   "cell_type": "code",
   "execution_count": 21,
   "metadata": {},
   "outputs": [
    {
     "data": {
      "text/plain": [
       "[Row(status='View TRAIN_DATASET successfully created.')]"
      ]
     },
     "execution_count": 21,
     "metadata": {},
     "output_type": "execute_result"
    }
   ],
   "source": [
    "dfD = session.table(\"DEMOGRAPHICS\")\n",
    "dfS = session.table(\"SERVICES\")\n",
    "dfJ = dfD.join(dfS, using_columns='CUSTOMERID', join_type='left')\n",
    "dfJ.select( col('GENDER'),\n",
    "            col('SENIORCITIZEN'),\n",
    "            col('PARTNER'),\n",
    "            col('DEPENDENTS'),\n",
    "            col('MULTIPLELINES'),\n",
    "            col('INTERNETSERVICE'),\n",
    "            col('ONLINESECURITY'),\n",
    "            col('ONLINEBACKUP'),\n",
    "            col('DEVICEPROTECTION'),\n",
    "            col('TECHSUPPORT'),\n",
    "            col('STREAMINGTV'),\n",
    "            col('STREAMINGMOVIES'),\n",
    "            col('CONTRACT'),\n",
    "            col('PAPERLESSBILLING'),\n",
    "            col('PAYMENTMETHOD'),\n",
    "            col('TENUREMONTHS'),\n",
    "            col('MONTHLYCHARGES'),\n",
    "            col('TOTALCHARGES'),\n",
    "            col('CHURNVALUE')\n",
    "            )\n",
    "dfJ.create_or_replace_view(\"TRAIN_DATASET\")"
   ]
  },
  {
   "cell_type": "code",
   "execution_count": 22,
   "metadata": {},
   "outputs": [
    {
     "name": "stdout",
     "output_type": "stream",
     "text": [
      "CPU times: user 19.4 ms, sys: 3.5 ms, total: 22.9 ms\n",
      "Wall time: 1.25 s\n"
     ]
    }
   ],
   "source": [
    "%%time\n",
    "raw = session.table(\"TRAIN_DATASET\").sample(n = 20)\n",
    "data = raw.toPandas()"
   ]
  },
  {
   "cell_type": "code",
   "execution_count": 23,
   "metadata": {},
   "outputs": [
    {
     "data": {
      "text/html": [
       "<div>\n",
       "<style scoped>\n",
       "    .dataframe tbody tr th:only-of-type {\n",
       "        vertical-align: middle;\n",
       "    }\n",
       "\n",
       "    .dataframe tbody tr th {\n",
       "        vertical-align: top;\n",
       "    }\n",
       "\n",
       "    .dataframe thead th {\n",
       "        text-align: right;\n",
       "    }\n",
       "</style>\n",
       "<table border=\"1\" class=\"dataframe\">\n",
       "  <thead>\n",
       "    <tr style=\"text-align: right;\">\n",
       "      <th></th>\n",
       "      <th>CUSTOMERID</th>\n",
       "      <th>COUNT</th>\n",
       "      <th>GENDER</th>\n",
       "      <th>SENIORCITIZEN</th>\n",
       "      <th>PARTNER</th>\n",
       "      <th>DEPENDENTS</th>\n",
       "      <th>TENUREMONTHS</th>\n",
       "      <th>PHONESERVICE</th>\n",
       "      <th>MULTIPLELINES</th>\n",
       "      <th>INTERNETSERVICE</th>\n",
       "      <th>ONLINESECURITY</th>\n",
       "      <th>ONLINEBACKUP</th>\n",
       "      <th>DEVICEPROTECTION</th>\n",
       "      <th>TECHSUPPORT</th>\n",
       "      <th>STREAMINGTV</th>\n",
       "      <th>STREAMINGMOVIES</th>\n",
       "      <th>CONTRACT</th>\n",
       "      <th>PAPERLESSBILLING</th>\n",
       "      <th>PAYMENTMETHOD</th>\n",
       "      <th>MONTHLYCHARGES</th>\n",
       "      <th>TOTALCHARGES</th>\n",
       "      <th>CHURNVALUE</th>\n",
       "    </tr>\n",
       "  </thead>\n",
       "  <tbody>\n",
       "    <tr>\n",
       "      <th>0</th>\n",
       "      <td>3841-hQh5W</td>\n",
       "      <td>1</td>\n",
       "      <td>Female</td>\n",
       "      <td>False</td>\n",
       "      <td>True</td>\n",
       "      <td>False</td>\n",
       "      <td>3</td>\n",
       "      <td>Yes</td>\n",
       "      <td>Yes</td>\n",
       "      <td>Fiber optic</td>\n",
       "      <td>No</td>\n",
       "      <td>No</td>\n",
       "      <td>No</td>\n",
       "      <td>No</td>\n",
       "      <td>Yes</td>\n",
       "      <td>Yes</td>\n",
       "      <td>Month-to-month</td>\n",
       "      <td>false</td>\n",
       "      <td>Electronic check</td>\n",
       "      <td>94.90</td>\n",
       "      <td>273.20</td>\n",
       "      <td>0.0</td>\n",
       "    </tr>\n",
       "    <tr>\n",
       "      <th>1</th>\n",
       "      <td>4058-ouP19</td>\n",
       "      <td>1</td>\n",
       "      <td>Female</td>\n",
       "      <td>False</td>\n",
       "      <td>True</td>\n",
       "      <td>False</td>\n",
       "      <td>3</td>\n",
       "      <td>Yes</td>\n",
       "      <td>Yes</td>\n",
       "      <td>Fiber optic</td>\n",
       "      <td>No</td>\n",
       "      <td>No</td>\n",
       "      <td>No</td>\n",
       "      <td>No</td>\n",
       "      <td>No</td>\n",
       "      <td>No</td>\n",
       "      <td>Month-to-month</td>\n",
       "      <td>true</td>\n",
       "      <td>Credit card (automatic)</td>\n",
       "      <td>74.10</td>\n",
       "      <td>228.00</td>\n",
       "      <td>1.0</td>\n",
       "    </tr>\n",
       "    <tr>\n",
       "      <th>2</th>\n",
       "      <td>1004-gR3Hj</td>\n",
       "      <td>1</td>\n",
       "      <td>Female</td>\n",
       "      <td>False</td>\n",
       "      <td>True</td>\n",
       "      <td>False</td>\n",
       "      <td>16</td>\n",
       "      <td>Yes</td>\n",
       "      <td>Yes</td>\n",
       "      <td>Fiber optic</td>\n",
       "      <td>No</td>\n",
       "      <td>No</td>\n",
       "      <td>No</td>\n",
       "      <td>No</td>\n",
       "      <td>Yes</td>\n",
       "      <td>No</td>\n",
       "      <td>Month-to-month</td>\n",
       "      <td>true</td>\n",
       "      <td>Electronic check</td>\n",
       "      <td>84.95</td>\n",
       "      <td>1378.25</td>\n",
       "      <td>1.0</td>\n",
       "    </tr>\n",
       "    <tr>\n",
       "      <th>3</th>\n",
       "      <td>1290-JJejm</td>\n",
       "      <td>1</td>\n",
       "      <td>Male</td>\n",
       "      <td>False</td>\n",
       "      <td>False</td>\n",
       "      <td>False</td>\n",
       "      <td>72</td>\n",
       "      <td>Yes</td>\n",
       "      <td>Yes</td>\n",
       "      <td>Fiber optic</td>\n",
       "      <td>No</td>\n",
       "      <td>Yes</td>\n",
       "      <td>Yes</td>\n",
       "      <td>Yes</td>\n",
       "      <td>Yes</td>\n",
       "      <td>Yes</td>\n",
       "      <td>Two year</td>\n",
       "      <td>false</td>\n",
       "      <td>Bank transfer (automatic)</td>\n",
       "      <td>109.20</td>\n",
       "      <td>7878.30</td>\n",
       "      <td>0.0</td>\n",
       "    </tr>\n",
       "    <tr>\n",
       "      <th>4</th>\n",
       "      <td>1961-GGRzm</td>\n",
       "      <td>1</td>\n",
       "      <td>Male</td>\n",
       "      <td>False</td>\n",
       "      <td>False</td>\n",
       "      <td>False</td>\n",
       "      <td>45</td>\n",
       "      <td>No</td>\n",
       "      <td>No phone service</td>\n",
       "      <td>DSL</td>\n",
       "      <td>Yes</td>\n",
       "      <td>No</td>\n",
       "      <td>Yes</td>\n",
       "      <td>Yes</td>\n",
       "      <td>No</td>\n",
       "      <td>No</td>\n",
       "      <td>One year</td>\n",
       "      <td>false</td>\n",
       "      <td>Bank transfer (automatic)</td>\n",
       "      <td>42.30</td>\n",
       "      <td>1840.75</td>\n",
       "      <td>0.0</td>\n",
       "    </tr>\n",
       "  </tbody>\n",
       "</table>\n",
       "</div>"
      ],
      "text/plain": [
       "   CUSTOMERID  COUNT  GENDER  SENIORCITIZEN  PARTNER  DEPENDENTS  \\\n",
       "0  3841-hQh5W      1  Female          False     True       False   \n",
       "1  4058-ouP19      1  Female          False     True       False   \n",
       "2  1004-gR3Hj      1  Female          False     True       False   \n",
       "3  1290-JJejm      1    Male          False    False       False   \n",
       "4  1961-GGRzm      1    Male          False    False       False   \n",
       "\n",
       "   TENUREMONTHS PHONESERVICE     MULTIPLELINES INTERNETSERVICE ONLINESECURITY  \\\n",
       "0             3          Yes               Yes     Fiber optic             No   \n",
       "1             3          Yes               Yes     Fiber optic             No   \n",
       "2            16          Yes               Yes     Fiber optic             No   \n",
       "3            72          Yes               Yes     Fiber optic             No   \n",
       "4            45           No  No phone service             DSL            Yes   \n",
       "\n",
       "  ONLINEBACKUP DEVICEPROTECTION TECHSUPPORT STREAMINGTV STREAMINGMOVIES  \\\n",
       "0           No               No          No         Yes             Yes   \n",
       "1           No               No          No          No              No   \n",
       "2           No               No          No         Yes              No   \n",
       "3          Yes              Yes         Yes         Yes             Yes   \n",
       "4           No              Yes         Yes          No              No   \n",
       "\n",
       "         CONTRACT PAPERLESSBILLING              PAYMENTMETHOD  MONTHLYCHARGES  \\\n",
       "0  Month-to-month            false           Electronic check           94.90   \n",
       "1  Month-to-month             true    Credit card (automatic)           74.10   \n",
       "2  Month-to-month             true           Electronic check           84.95   \n",
       "3        Two year            false  Bank transfer (automatic)          109.20   \n",
       "4        One year            false  Bank transfer (automatic)           42.30   \n",
       "\n",
       "   TOTALCHARGES  CHURNVALUE  \n",
       "0        273.20         0.0  \n",
       "1        228.00         1.0  \n",
       "2       1378.25         1.0  \n",
       "3       7878.30         0.0  \n",
       "4       1840.75         0.0  "
      ]
     },
     "execution_count": 23,
     "metadata": {},
     "output_type": "execute_result"
    }
   ],
   "source": [
    "pd.pandas.set_option('display.max_columns', None)\n",
    "data.head()"
   ]
  },
  {
   "cell_type": "code",
   "execution_count": 24,
   "metadata": {},
   "outputs": [],
   "source": [
    "session.close()"
   ]
  }
 ],
 "metadata": {
  "interpreter": {
   "hash": "40d3a090f54c6569ab1632332b64b2c03c39dcf918b08424e98f38b5ae0af88f"
  },
  "kernelspec": {
   "display_name": "Python 3.7.6 64-bit ('base': conda)",
   "language": "python",
   "name": "python3"
  },
  "language_info": {
   "codemirror_mode": {
    "name": "ipython",
    "version": 3
   },
   "file_extension": ".py",
   "mimetype": "text/x-python",
   "name": "python",
   "nbconvert_exporter": "python",
   "pygments_lexer": "ipython3",
   "version": "3.8.13"
  },
  "orig_nbformat": 4
 },
 "nbformat": 4,
 "nbformat_minor": 2
}
